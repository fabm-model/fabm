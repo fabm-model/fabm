{
 "cells": [
  {
   "cell_type": "markdown",
   "metadata": {},
   "source": [
    "# Prototype: an efficient, approximate running mean filter\n",
    "\n",
    "The window size (units of time) is denoted as $p$.\n",
    "\n",
    "Constraints:\n",
    "* The filter uses a prescribed number of bins, $n$, to store the history.\n",
    "  Typically $n$ << the number of time steps the model would take to cover the window.\n",
    "  For instance, a 1-day running mean may use only $n=24$ bins (1 per hour), even if the internal model time step $\\Delta t$ is 600 s\n",
    "  By definition, this means the running mean will be an approximation. But it should converge to a completely accurate\n",
    "  result when there is one bin per model time step, i.e., when $p/n \\rightarrow \\Delta t$.\n",
    "* We have no advance knowledge about the model time step $\\Delta t$, which may be variable."
   ]
  },
  {
   "cell_type": "code",
   "execution_count": null,
   "metadata": {},
   "outputs": [],
   "source": [
    "import numpy\n",
    "from matplotlib import pyplot\n",
    "\n",
    "p = 1.0                      # window size in days\n",
    "delta_t = 1.0 / 24.0 / 6.0   # model time step in days\n",
    "duration = 30.0              # simulation duration in days\n",
    "n = 24                       # number of bins for history (covering period p)\n",
    "missing_value = -2.0         # value to return while the simulation has not covered 1 window size yet"
   ]
  },
  {
   "cell_type": "code",
   "execution_count": null,
   "metadata": {},
   "outputs": [],
   "source": [
    "class Filter:\n",
    "   def __init__(self):\n",
    "      self.history = numpy.zeros((n + 1,))   # one for each completed bin, plus one more for the bin currently being filled\n",
    "      self.previous_time = 0.\n",
    "      self.previous_value = 0\n",
    "      self.ibin = -1\n",
    "      self.bin_end_time = 0.\n",
    "      self.mean_value = missing_value\n",
    "      self.last_mean = 0.\n",
    "      self.complete = False\n",
    "\n",
    "   def __call__(self, now: float, value: float) -> float:\n",
    "      binwidth = p / n\n",
    "      if self.ibin == -1:\n",
    "         self.previous_time = now\n",
    "         self.bin_end_time = now + binwidth\n",
    "         self.ibin = 0\n",
    "\n",
    "      while now >= self.bin_end_time:\n",
    "         dt = self.bin_end_time - self.previous_time\n",
    "\n",
    "         # Interpolate to value at right bin time\n",
    "         w = dt / (now - self.previous_time)\n",
    "\n",
    "         # Increment the bin we are completing (history[ibin]) and mean\n",
    "         #bin_end_value = (1 - w) * self.previous_value + w * value\n",
    "         #self.history[self.ibin] += 0.5 * dt * (self.previous_value + bin_end_value) / p\n",
    "         self.history[self.ibin] += (self.previous_value + 0.5 * w * (value - self.previous_value)) * dt / p\n",
    "         if self.complete:\n",
    "            # We already had a complete history (bins covering the full window size). Add the newly full bin, subtract the oldest bin\n",
    "            self.last_mean += self.history[self.ibin] - self.history[self.ibin + 1 if self.ibin != n else 0]\n",
    "         elif self.ibin == n - 1:\n",
    "            # We just completed our history. create the mean by summing all filled bins.\n",
    "            self.last_mean = self.history[:n, ...].sum(axis=0)\n",
    "            self.complete = True\n",
    "         self.ibin = 0 if self.ibin == n else self.ibin + 1\n",
    "         self.history[self.ibin] = 0.\n",
    "\n",
    "         self.previous_time = self.bin_end_time\n",
    "         self.previous_value += w * (value - self.previous_value)\n",
    "         self.bin_end_time += binwidth\n",
    "\n",
    "      # increment current bin (history[ibin])\n",
    "      self.history[self.ibin] += 0.5 * (self.previous_value + value) / p * (now - self.previous_time)\n",
    "      if self.complete:\n",
    "         # we have a complete history - update the mean\n",
    "         self.mean_value = self.last_mean + self.history[self.ibin] - self.history[self.ibin + 1 if self.ibin != n else 0] * (now - self.bin_end_time + binwidth) / binwidth\n",
    "\n",
    "      self.previous_time = now\n",
    "      self.previous_value = value\n",
    "      return self.mean_value"
   ]
  },
  {
   "cell_type": "code",
   "execution_count": null,
   "metadata": {},
   "outputs": [],
   "source": [
    "# Calculate and plot variable for which to compute the running mean\n",
    "times = numpy.arange(0, duration, delta_t)\n",
    "values = numpy.sin(2 * numpy.pi * times)\n",
    "\n",
    "fig, ax  = pyplot.subplots(figsize=(15, 4))\n",
    "ax.plot(times, values)\n",
    "ax.grid()"
   ]
  },
  {
   "cell_type": "code",
   "execution_count": null,
   "metadata": {},
   "outputs": [],
   "source": [
    "# Compute and plot the running mean\n",
    "filter = Filter()\n",
    "filtered = numpy.empty_like(values)\n",
    "for i, (time, value) in enumerate(zip(times, values)):\n",
    "   filtered[i] = filter(time, value)\n",
    "\n",
    "fig, ax  = pyplot.subplots(figsize=(15, 4))\n",
    "ax.plot(times, values)\n",
    "ax.plot(times, filtered)\n",
    "ax.grid()"
   ]
  },
  {
   "cell_type": "code",
   "execution_count": null,
   "metadata": {},
   "outputs": [],
   "source": [
    "# Compare running mean with analytical solution\n",
    "# (this requires the window size to be a multiple of the model time step)\n",
    "assert abs(p % delta_t) < 1e-15, 'Window size %s is not a multiple of the model time step %s. Residual: %s' % (p, delta_t, p % delta_t)\n",
    "nstep = int(round(p / delta_t))\n",
    "analytical = numpy.full_like(values, missing_value)\n",
    "for i, (time, value) in enumerate(zip(times, values)):\n",
    "   if i >= nstep:\n",
    "      centers = 0.5 * (values[i - nstep:i] + values[i - nstep + 1:i + 1])\n",
    "      analytical[i] = centers.mean()\n",
    "\n",
    "fig, ax  = pyplot.subplots(figsize=(15, 4))\n",
    "ax.plot(times, filtered - analytical)\n",
    "ax.grid()\n"
   ]
  },
  {
   "cell_type": "code",
   "execution_count": null,
   "metadata": {},
   "outputs": [],
   "source": [
    "# Now try with randomly varying time step\n",
    "filter = Filter()\n",
    "time = 0.\n",
    "rtimes, rvalues, rfiltered = [], [], []\n",
    "while time < duration:\n",
    "   value = numpy.sin(2 * numpy.pi * time)\n",
    "   rtimes.append(time)\n",
    "   rvalues.append(value)\n",
    "   rfiltered.append(filter(time, value))\n",
    "   dt = 2 * delta_t * numpy.random.rand()\n",
    "   time += dt\n",
    "\n",
    "fig, ax  = pyplot.subplots(figsize=(15, 4))\n",
    "ax.plot(rtimes, rvalues)\n",
    "ax.plot(rtimes, rfiltered)\n",
    "ax.grid()"
   ]
  },
  {
   "cell_type": "code",
   "execution_count": null,
   "metadata": {},
   "outputs": [],
   "source": [
    "# Now try the running mean filter in FABM itself\n",
    "import pyfabm\n",
    "\n",
    "config = dict(\n",
    "    instances=dict(\n",
    "        mean_int=dict(\n",
    "            model=\"interior_temporal_mean\",\n",
    "            parameters=dict(window=p, n=n, missing_value=missing_value),\n",
    "        ),\n",
    "        mean_sf=dict(\n",
    "            model=\"surface_temporal_mean\",\n",
    "            parameters=dict(window=p, n=n, missing_value=missing_value),\n",
    "        )\n",
    "    )\n",
    ")\n",
    "m = pyfabm.Model(config)\n",
    "invar = m.dependencies[\"mean_int/source\"]\n",
    "outvar = m.diagnostic_variables[\"mean_int/mean\"]\n",
    "invar2 = m.dependencies[\"mean_sf/source\"]\n",
    "outvar2 = m.diagnostic_variables[\"mean_sf/mean\"]\n",
    "invar.value = missing_value\n",
    "invar2.value = missing_value\n",
    "m.cell_thickness = 1.0\n",
    "m.start()\n",
    "fabm_fitered = numpy.empty_like(values)\n",
    "for i, (time, value) in enumerate(zip(times, values)):\n",
    "    invar.value = value\n",
    "    invar2.value = value\n",
    "    m.getRates(time, surface=True)\n",
    "    assert outvar.value == outvar2.value\n",
    "    fabm_fitered[i] = outvar.value\n",
    "\n",
    "fig, ax = pyplot.subplots(figsize=(15, 4))\n",
    "ax.plot(times, fabm_fitered - analytical)\n",
    "ax.grid()\n"
   ]
  },
  {
   "cell_type": "code",
   "execution_count": null,
   "metadata": {},
   "outputs": [],
   "source": []
  }
 ],
 "metadata": {
  "interpreter": {
   "hash": "97ae724bfa85b9b34df7982b8bb8c7216f435b92902d749e4263f71162bea840"
  },
  "kernelspec": {
   "display_name": "Python 3.8.8 64-bit ('base': conda)",
   "name": "python3"
  },
  "language_info": {
   "codemirror_mode": {
    "name": "ipython",
    "version": 3
   },
   "file_extension": ".py",
   "mimetype": "text/x-python",
   "name": "python",
   "nbconvert_exporter": "python",
   "pygments_lexer": "ipython3",
   "version": "3.9.16"
  },
  "orig_nbformat": 4
 },
 "nbformat": 4,
 "nbformat_minor": 2
}
