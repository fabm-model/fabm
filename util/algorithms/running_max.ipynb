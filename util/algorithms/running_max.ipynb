{
 "cells": [
  {
   "cell_type": "markdown",
   "metadata": {},
   "source": [
    "# Prototype: an efficient, approximate running maximum filter\n",
    "\n",
    "The window size (units of time) is denoted as $p$.\n",
    "\n",
    "Constraints:\n",
    "* The filter uses a prescribed number of bins, $n$, to store the history.\n",
    "  Typically $n$ << the number of time steps the model would take to cover the window.\n",
    "  For instance, a 1-year running mean may use just 1 bin. In that case, the maximum during very first year will be set to \"missing value\".\n",
    "  In the entire subsequent year, the maximum will be equal to the maximum over the first year. And so on.\n",
    "  By definition, this means the running maximum will be an approximation that ignores all recent history (of duration window size / # bins).\n",
    "* We have no advance knowledge about the model time step $\\Delta t$, which may be variable."
   ]
  },
  {
   "cell_type": "code",
   "execution_count": null,
   "metadata": {},
   "outputs": [],
   "source": [
    "import numpy as np\n",
    "from matplotlib import pyplot\n",
    "\n",
    "p = 1.0                           # window size time units\n",
    "delta_t = 1.0 / 24.0 / 6.0 / 365  # model time step in time units\n",
    "duration = 5.0                    # simulation duration in time units\n",
    "n = 1                             # number of bins for history (covering period p)\n",
    "missing_value = -2.0              # value to return while the simulation has not covered 1 window size yet"
   ]
  },
  {
   "cell_type": "code",
   "execution_count": null,
   "metadata": {},
   "outputs": [],
   "source": [
    "class Filter:\n",
    "    def __init__(self):\n",
    "        self.history = np.zeros((n,))\n",
    "        self.previous_time = 0.0\n",
    "        self.previous_value = 0\n",
    "        self.ibin = -1\n",
    "        self.bin_end_time = 0.0\n",
    "        self.max = missing_value\n",
    "        self.complete = False\n",
    "\n",
    "    def __call__(self, now: float, value: float) -> float:\n",
    "        if self.ibin == -1:\n",
    "            self.bin_end_time = now + p / n\n",
    "            self.ibin = 0\n",
    "\n",
    "        while now >= self.bin_end_time:\n",
    "            # Interpolate to value at right bin time\n",
    "            w = (self.bin_end_time - self.previous_time) / (now - self.previous_time)\n",
    "            self.previous_time = self.bin_end_time\n",
    "            self.previous_value += w * (value - self.previous_value)\n",
    "\n",
    "            # Increment the bin we are completing (history[ibin]) and mean\n",
    "            # bin_end_value = (1 - w) * self.previous_value + w * value\n",
    "            # self.history[self.ibin] += 0.5 * dt * (self.previous_value + bin_end_value) / p\n",
    "            self.history[self.ibin] = np.maximum(\n",
    "                self.history[self.ibin], self.previous_value\n",
    "            )\n",
    "            self.complete = self.complete or self.ibin == n - 1\n",
    "            if self.complete:\n",
    "                self.max = np.max(self.history[:, ...], axis=0)\n",
    "            self.ibin = 0 if self.ibin == n - 1 else self.ibin + 1\n",
    "            self.history[self.ibin] = self.previous_value\n",
    "\n",
    "            self.bin_end_time += p / n\n",
    "\n",
    "        # Update the maximum of the current bin\n",
    "        self.history[self.ibin] = np.maximum(self.history[self.ibin], value)\n",
    "\n",
    "        # Store current time and value to enable linear interpolation in subsequent call.\n",
    "        self.previous_time = now\n",
    "        self.previous_value = value\n",
    "        return self.max"
   ]
  },
  {
   "cell_type": "code",
   "execution_count": null,
   "metadata": {},
   "outputs": [],
   "source": [
    "# Calculate and plot variable for which to compute the running maximum\n",
    "times = np.arange(0, duration, delta_t)\n",
    "values = np.sin(2 * np.pi * times / 3)\n",
    "\n",
    "fig, ax = pyplot.subplots(figsize=(15, 4))\n",
    "ax.plot(times, values)\n",
    "ax.grid()"
   ]
  },
  {
   "cell_type": "code",
   "execution_count": null,
   "metadata": {},
   "outputs": [],
   "source": [
    "# Compute and plot the running maximum\n",
    "filter = Filter()\n",
    "filtered = np.empty_like(values)\n",
    "for i, (time, value) in enumerate(zip(times, values)):\n",
    "    filtered[i] = filter(time, value)\n",
    "\n",
    "fig, ax = pyplot.subplots(figsize=(15, 4))\n",
    "ax.plot(times, values)\n",
    "ax.plot(times, filtered)\n",
    "ax.grid()"
   ]
  },
  {
   "cell_type": "code",
   "execution_count": null,
   "metadata": {},
   "outputs": [],
   "source": [
    "# Compare running maximum with analytical solution\n",
    "# (this requires the window size to be a multiple of the model time step)\n",
    "assert (\n",
    "    abs(p % delta_t) < 1e-15\n",
    "), \"Window size %s is not a multiple of the model time step %s. Residual: %s\" % (\n",
    "    p,\n",
    "    delta_t,\n",
    "    p % delta_t,\n",
    ")\n",
    "nstep = int(round(p / delta_t))\n",
    "analytical = np.full_like(values, missing_value)\n",
    "for i, (time, value) in enumerate(zip(times, values)):\n",
    "    if i >= nstep:\n",
    "        analytical[i] = values[i - nstep : i + 1].max()\n",
    "\n",
    "fig, ax = pyplot.subplots(figsize=(15, 4))\n",
    "ax.plot(times, filtered - analytical)\n",
    "ax.grid()"
   ]
  },
  {
   "cell_type": "code",
   "execution_count": null,
   "metadata": {},
   "outputs": [],
   "source": [
    "# Now try with randomly varying time step\n",
    "filter = Filter()\n",
    "time = 0.0\n",
    "rtimes, rvalues, rfiltered = [], [], []\n",
    "while time < duration:\n",
    "    value = np.sin(2 * np.pi * time / 3)\n",
    "    rtimes.append(time)\n",
    "    rvalues.append(value)\n",
    "    rfiltered.append(filter(time, value))\n",
    "    dt = 2 * delta_t * np.random.rand()\n",
    "    time += dt\n",
    "\n",
    "fig, ax = pyplot.subplots(figsize=(15, 4))\n",
    "ax.plot(rtimes, rvalues)\n",
    "ax.plot(rtimes, rfiltered)\n",
    "ax.grid()"
   ]
  },
  {
   "cell_type": "code",
   "execution_count": null,
   "metadata": {},
   "outputs": [],
   "source": [
    "# Now try the running maximum filter in FABM itself\n",
    "import pyfabm\n",
    "\n",
    "config = {\n",
    "    \"instances\": {\n",
    "        \"max\": {\n",
    "            \"model\": \"surface_temporal_maximum\",\n",
    "            \"parameters\": {\"window\": p, \"n\": n, \"missing_value\": missing_value},\n",
    "        }\n",
    "    }\n",
    "}\n",
    "m = pyfabm.Model(config)\n",
    "invar = m.dependencies[\"max/source\"]\n",
    "outvar = m.diagnostic_variables[\"max/max\"]\n",
    "invar.value = missing_value\n",
    "m.cell_thickness = 1.0\n",
    "m.start()\n",
    "fabm_filtered = np.empty_like(values)\n",
    "for i, (time, value) in enumerate(zip(times, values)):\n",
    "    invar.value = value\n",
    "    m.get_sources(time)\n",
    "    fabm_filtered[i] = outvar.value\n",
    "\n",
    "fig, ax = pyplot.subplots(figsize=(15, 4))\n",
    "ax.plot(times, values)\n",
    "ax.plot(times, fabm_filtered)\n",
    "ax.grid()\n",
    "\n",
    "fig, ax = pyplot.subplots(figsize=(15, 4))\n",
    "ax.plot(times, fabm_filtered - analytical)\n",
    "ax.grid()"
   ]
  },
  {
   "cell_type": "code",
   "execution_count": null,
   "metadata": {},
   "outputs": [],
   "source": [
    "fig, ax = pyplot.subplots()\n",
    "ax.plot(filtered, fabm_filtered, \".\")\n",
    "ax.grid()"
   ]
  },
  {
   "cell_type": "code",
   "execution_count": null,
   "metadata": {},
   "outputs": [],
   "source": []
  }
 ],
 "metadata": {
  "kernelspec": {
   "display_name": "base",
   "language": "python",
   "name": "python3"
  },
  "language_info": {
   "codemirror_mode": {
    "name": "ipython",
    "version": 3
   },
   "file_extension": ".py",
   "mimetype": "text/x-python",
   "name": "python",
   "nbconvert_exporter": "python",
   "pygments_lexer": "ipython3",
   "version": "3.9.21"
  },
  "orig_nbformat": 4
 },
 "nbformat": 4,
 "nbformat_minor": 2
}
