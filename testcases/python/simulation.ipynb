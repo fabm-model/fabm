{
 "cells": [
  {
   "cell_type": "markdown",
   "metadata": {},
   "source": [
    "This notebook requires pyfabm. For instructions on how to build and install pyfabm, see https://github.com/fabm-model/fabm/wiki/python"
   ]
  },
  {
   "cell_type": "code",
   "execution_count": null,
   "metadata": {},
   "outputs": [],
   "source": [
    "import pyfabm\n",
    "import numpy\n",
    "import scipy.integrate\n",
    "\n",
    "# Note: \"%matplotlib widget\" below enables interactive plots but requires https://github.com/matplotlib/ipympl\n",
    "# Alternatively you could use \"%matplotlib notebook\" (interactive but deprecated) or \"%matplotlib inline\" (static plots)\n",
    "%matplotlib widget\n",
    "import matplotlib.pyplot"
   ]
  },
  {
   "cell_type": "code",
   "execution_count": null,
   "metadata": {},
   "outputs": [],
   "source": [
    "model = pyfabm.Model(\"../fabm-gotm-npzd.yaml\")"
   ]
  },
  {
   "cell_type": "code",
   "execution_count": null,
   "metadata": {
    "tags": []
   },
   "outputs": [],
   "source": [
    "# Configure environmental conditions and initialize the model\n",
    "model.cell_thickness = 10  # cell thickness in m, used by getRates to scale surface and bottom fluxes\n",
    "model.findDependency(\"surface_downwelling_photosynthetic_radiative_flux\").value = 70.0  # W/m2\n",
    "model.findDependency(\"downwelling_photosynthetic_radiative_flux\").value = 10.0  # W/m2\n",
    "assert model.start(), \"Model failed to start: %s\" % pyfabm.getError()"
   ]
  },
  {
   "cell_type": "code",
   "execution_count": null,
   "metadata": {},
   "outputs": [],
   "source": [
    "# Time-integrate over 200 days (note: FABM's internal time unit is seconds!)\n",
    "def dy(t, y):\n",
    "    model.state[:] = y\n",
    "    return model.getRates(t)\n",
    "\n",
    "\n",
    "result = scipy.integrate.solve_ivp(\n",
    "    dy, [0.0, 200.0 * 86400], model.state, first_step=3600.0, max_step=86400.0\n",
    ")"
   ]
  },
  {
   "cell_type": "code",
   "execution_count": null,
   "metadata": {
    "tags": []
   },
   "outputs": [],
   "source": [
    "# Plot results\n",
    "matplotlib.pyplot.ioff()\n",
    "fig = matplotlib.pyplot.figure()\n",
    "ax = fig.gca()\n",
    "ax.plot(result.t / 86400, result.y.T)\n",
    "ax.legend([v.long_name for v in model.state_variables])\n",
    "ax.grid()\n",
    "ax.set_xlabel(\"time (d)\")\n",
    "ax.set_ylabel(model.state_variables[0].units)\n",
    "fig.show()"
   ]
  },
  {
   "cell_type": "code",
   "execution_count": null,
   "metadata": {},
   "outputs": [],
   "source": []
  }
 ],
 "metadata": {
  "kernelspec": {
   "display_name": "Python 3",
   "language": "python",
   "name": "python3"
  },
  "language_info": {
   "codemirror_mode": {
    "name": "ipython",
    "version": 3
   },
   "file_extension": ".py",
   "mimetype": "text/x-python",
   "name": "python",
   "nbconvert_exporter": "python",
   "pygments_lexer": "ipython3",
   "version": "3.9.16"
  }
 },
 "nbformat": 4,
 "nbformat_minor": 2
}
