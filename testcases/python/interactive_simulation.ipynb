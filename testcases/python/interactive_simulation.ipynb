{
 "cells": [
  {
   "cell_type": "markdown",
   "metadata": {},
   "source": [
    "This notebook requires pyfabm.\n",
    "For instructions on how to build and install pyfabm, see https://github.com/fabm-model/fabm/wiki/python"
   ]
  },
  {
   "cell_type": "code",
   "execution_count": null,
   "metadata": {},
   "outputs": [],
   "source": [
    "import os\n",
    "import glob\n",
    "import ipywidgets\n",
    "import scipy.integrate\n",
    "\n",
    "# Note: \"%matplotlib widget\" below enables interactive plots but requires https://github.com/matplotlib/ipympl\n",
    "# Alternatively you could use \"%matplotlib notebook\" (interactive but deprecated) or \"%matplotlib inline\" (static plots)\n",
    "%matplotlib widget\n",
    "import matplotlib.pyplot"
   ]
  },
  {
   "cell_type": "code",
   "execution_count": null,
   "metadata": {},
   "outputs": [],
   "source": [
    "# Show available test cases\n",
    "testcases = [(os.path.basename(path)[:-5], path) for path in glob.glob(\"../*.yaml\")]\n",
    "testcase_dropdown = ipywidgets.Dropdown(options=testcases, description=\"Test case:\")\n",
    "display(testcase_dropdown)"
   ]
  },
  {
   "cell_type": "code",
   "execution_count": null,
   "metadata": {
    "tags": []
   },
   "outputs": [],
   "source": [
    "# Initialize the test case (this reads fabm.yaml)\n",
    "import pyfabm\n",
    "\n",
    "model = pyfabm.Model(testcase_dropdown.value)"
   ]
  },
  {
   "cell_type": "code",
   "execution_count": null,
   "metadata": {
    "tags": []
   },
   "outputs": [],
   "source": [
    "# Present configurable environmental conditions\n",
    "bottom_depth = 10\n",
    "default_environment = {\n",
    "    \"temperature\": 15.0,\n",
    "    \"practical_salinity\": 35.0,\n",
    "    \"surface_downwelling_photosynthetic_radiative_flux\": 50.0,\n",
    "    \"downwelling_photosynthetic_radiative_flux\": 10.0,\n",
    "    \"density\": 1025.0,\n",
    "    \"mole_fraction_of_carbon_dioxide_in_air\": 414.2,\n",
    "    \"bottom_depth\": bottom_depth,\n",
    "    \"depth\": 0.5 * bottom_depth,\n",
    "    \"pressure\": 0.5 * bottom_depth,\n",
    "    \"cell_thickness\": bottom_depth,\n",
    "}\n",
    "model.cell_thickness = bottom_depth  # cell thickness in m, used by getRates to scale surface and bottom fluxes\n",
    "labels, inputs, units = [], [], []\n",
    "for variable in model.dependencies:\n",
    "    labels.append(ipywidgets.Label(\"%s:\" % variable.long_name))\n",
    "    inputs.append(\n",
    "        ipywidgets.FloatText(\n",
    "            value=default_environment.get(variable.name, 0.0), layout={\"width\": \"7em\"}\n",
    "        )\n",
    "    )\n",
    "    units.append(ipywidgets.Label(\"%s\" % variable.units))\n",
    "display(\n",
    "    ipywidgets.HBox(\n",
    "        (\n",
    "            ipywidgets.VBox([ipywidgets.HTML(\"<b>Variable</b>\")] + labels),\n",
    "            ipywidgets.VBox([ipywidgets.HTML(\"<b>Value</b>\")] + inputs),\n",
    "            ipywidgets.VBox([ipywidgets.HTML(\"<b>Units</b>\")] + units),\n",
    "        )\n",
    "    )\n",
    ")"
   ]
  },
  {
   "cell_type": "code",
   "execution_count": null,
   "metadata": {},
   "outputs": [],
   "source": [
    "# Transfer environmental conditions to model\n",
    "for variable, widget in zip(model.dependencies, inputs):\n",
    "    variable.value = widget.value\n",
    "\n",
    "# Initialize model (this also verifies that all dependencies have been fulfilled)\n",
    "assert model.start(), \"Model failed to start: %s\" % pyfabm.getError()"
   ]
  },
  {
   "cell_type": "code",
   "execution_count": null,
   "metadata": {},
   "outputs": [],
   "source": [
    "# Time derivative\n",
    "def dy(t, y):\n",
    "    model.state[:] = y\n",
    "    return model.getRates(t)\n",
    "\n",
    "\n",
    "# Time-integrate over 200 days (note: FABM's internal time unit is seconds!)\n",
    "result = scipy.integrate.solve_ivp(\n",
    "    dy, [0.0, 200.0 * 86400], model.state, first_step=3600.0, max_step=86400.0\n",
    ")"
   ]
  },
  {
   "cell_type": "code",
   "execution_count": null,
   "metadata": {
    "tags": []
   },
   "outputs": [],
   "source": [
    "# Plot results\n",
    "matplotlib.pyplot.ioff()\n",
    "fig = matplotlib.pyplot.figure()\n",
    "ax = fig.gca()\n",
    "(line,) = ax.plot(result.t / 86400, result.y[0, :])\n",
    "ax.grid()\n",
    "ax.set_xlabel(\"time (d)\")\n",
    "\n",
    "\n",
    "def update(variable):\n",
    "    v = model.state_variables[variable]\n",
    "    line.set_ydata(result.y[variable, :])\n",
    "    ax.set_ylabel(\"%s (%s)\" % (v.long_name, v.units))\n",
    "    ax.set_title(v.long_name)\n",
    "    ax.relim()\n",
    "    ax.autoscale()\n",
    "    fig.canvas.draw()\n",
    "\n",
    "\n",
    "dropdown = ipywidgets.interactive(\n",
    "    update,\n",
    "    variable=[\n",
    "        (variable.long_path, i) for i, variable in enumerate(model.state_variables)\n",
    "    ],\n",
    ")\n",
    "display(dropdown)\n",
    "fig.show()\n"
   ]
  },
  {
   "cell_type": "code",
   "execution_count": null,
   "metadata": {},
   "outputs": [],
   "source": []
  }
 ],
 "metadata": {
  "kernelspec": {
   "display_name": "Python 3",
   "language": "python",
   "name": "python3"
  },
  "language_info": {
   "codemirror_mode": {
    "name": "ipython",
    "version": 3
   },
   "file_extension": ".py",
   "mimetype": "text/x-python",
   "name": "python",
   "nbconvert_exporter": "python",
   "pygments_lexer": "ipython3",
   "version": "3.9.16"
  }
 },
 "nbformat": 4,
 "nbformat_minor": 2
}
