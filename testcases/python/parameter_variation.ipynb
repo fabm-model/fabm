{
 "cells": [
  {
   "cell_type": "markdown",
   "metadata": {},
   "source": [
    "This notebook requires pyfabm. For instructions on how to build and install pyfabm, see https://fabm.net/python"
   ]
  },
  {
   "cell_type": "code",
   "execution_count": null,
   "metadata": {},
   "outputs": [],
   "source": [
    "import numpy as np\n",
    "import pyfabm\n",
    "\n",
    "# Note: \"%matplotlib widget\" below enables interactive plots but requires https://matplotlib.org/ipympl/\n",
    "# Alternatively you could use \"%matplotlib notebook\" (interactive but deprecated) or \"%matplotlib inline\" (static plots)\n",
    "%matplotlib widget\n",
    "import matplotlib.pyplot\n",
    "\n",
    "# Redirect FABM output to logger to avoid cells filling up with initialization messages\n",
    "import logging\n",
    "pyfabm.logger = logging.getLogger()"
   ]
  },
  {
   "cell_type": "code",
   "execution_count": null,
   "metadata": {},
   "outputs": [],
   "source": [
    "# Load the model configuration from a YAML file\n",
    "model = pyfabm.Model(\"../fabm-gotm-npzd.yaml\")"
   ]
  },
  {
   "cell_type": "code",
   "execution_count": null,
   "metadata": {
    "tags": []
   },
   "outputs": [],
   "source": [
    "# Set environmental conditions and initialize the model\n",
    "model.cell_thickness = 10.0  # cell thickness in m, used by getRates to scale surface and bottom fluxes\n",
    "model.dependencies[\"surface_downwelling_photosynthetic_radiative_flux\"].value = 70.0  # W/m2\n",
    "model.dependencies[\"downwelling_photosynthetic_radiative_flux\"].value = 10.0          # W/m2"
   ]
  },
  {
   "cell_type": "code",
   "execution_count": null,
   "metadata": {},
   "outputs": [],
   "source": [
    "# Vary model parameter and store the corresponding value of a diagnostic of interest\n",
    "PARNAME = \"npzd/alpha\"\n",
    "DIAGNAME = \"npzd/PPR\"\n",
    "parvalues = np.linspace(0.0, 10.0, 100)\n",
    "results = np.empty_like(parvalues)\n",
    "for i, parvalue in enumerate(parvalues):\n",
    "    parameter = model.parameters[PARNAME]\n",
    "    parameter.value = parvalue\n",
    "    assert model.start(), f\"Model failed to start: {pyfabm.getError()}\"\n",
    "    diagnostic = model.diagnostic_variables[DIAGNAME]\n",
    "    model.getRates()\n",
    "    results[i] = diagnostic.value"
   ]
  },
  {
   "cell_type": "code",
   "execution_count": null,
   "metadata": {
    "tags": []
   },
   "outputs": [],
   "source": [
    "# Plot the value of the diagnostic against the value of the varied parameter\n",
    "fig, ax = matplotlib.pyplot.subplots()\n",
    "ax.plot(parvalues, results)\n",
    "ax.grid()\n",
    "ax.set_xlabel(f\"{parameter.long_name} ({parameter.units})\")\n",
    "ax.set_ylabel(f\"{diagnostic.long_name} ({diagnostic.units})\");"
   ]
  },
  {
   "cell_type": "code",
   "execution_count": null,
   "metadata": {},
   "outputs": [],
   "source": []
  }
 ],
 "metadata": {
  "kernelspec": {
   "display_name": "base",
   "language": "python",
   "name": "python3"
  },
  "language_info": {
   "codemirror_mode": {
    "name": "ipython",
    "version": 3
   },
   "file_extension": ".py",
   "mimetype": "text/x-python",
   "name": "python",
   "nbconvert_exporter": "python",
   "pygments_lexer": "ipython3",
   "version": "3.9.19"
  }
 },
 "nbformat": 4,
 "nbformat_minor": 2
}
